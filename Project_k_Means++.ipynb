{
  "nbformat": 4,
  "nbformat_minor": 0,
  "metadata": {
    "colab": {
      "name": "Project_k_Means++.ipynb",
      "provenance": [],
      "collapsed_sections": []
    },
    "kernelspec": {
      "name": "python3",
      "display_name": "Python 3"
    }
  },
  "cells": [
    {
      "cell_type": "markdown",
      "metadata": {
        "id": "0C9BzuIpJ3za"
      },
      "source": [
        "PROJECT MAINTAINED BY : **Sadig** Gojayev and **Javid** Guliyev _date 30-/12-2020"
      ]
    },
    {
      "cell_type": "markdown",
      "metadata": {
        "id": "vkT79wg7Tb5l"
      },
      "source": [
        "# **ARTIFICIAL INTELLIGENCE PROJECT**\n",
        "## k-means++\n",
        "\n",
        "Members: **SADiG GOJAYEV and JAViD GULiYEV**\n"
      ]
    },
    {
      "cell_type": "code",
      "metadata": {
        "id": "css9u_DXmjow"
      },
      "source": [
        "import numpy as np\n",
        "import pandas as pd\n",
        "import math as mt\n",
        "import matplotlib.pyplot as plt\n",
        "import matplotlib.cm as cm\n",
        "import random as rd\n",
        "import time\n"
      ],
      "execution_count": null,
      "outputs": []
    },
    {
      "cell_type": "markdown",
      "metadata": {
        "id": "MG0q8OrVRxGq"
      },
      "source": [
        "# Data Preparing"
      ]
    },
    {
      "cell_type": "code",
      "metadata": {
        "id": "yLWL94aAnJl-"
      },
      "source": [
        "def create_data(points,coordinates,centers):\n",
        "\n",
        "  data=[np.array([0]*coordinates)]*points\n",
        "  data_x=np.array([0]*points)\n",
        "  data_y=np.array([0]*points)\n",
        "\n",
        "  data_c=[np.array([0]*(coordinates+2))]*k\n",
        "  data_c_x=np.array([0]*k)\n",
        "  data_c_y=np.array([0]*k)\n",
        "  data_c_gx=np.array([0]*k, dtype=float)\n",
        "  data_c_gy=np.array([0]*k, dtype=float)\n",
        "\n",
        "  for point in range(points):\n",
        "    data_x[point]=rd.randrange(0,1000)\n",
        "    data_y[point]=rd.randrange(0,400)\n",
        "\n",
        "  for i in range(k):\n",
        "    j=rd.randrange(0,points)\n",
        "    data_c_x[i]=rd.randrange(100,900)\n",
        "    data_c_gx[i]=0.004\n",
        "    data_c_y[i]=rd.randrange(35,250)\n",
        "    data_c_gy[i]=0.003\n",
        "\n",
        "  data = np.vstack((data_x, data_y)).T\n",
        "  data_c = np.vstack((data_c_x,data_c_y,data_c_gx,data_c_gy)).T\n",
        "  data = np.array(data, dtype=float)\n",
        "  data_c = np.array(data_c,  dtype=float)\n",
        "\n",
        "  return data , data_c\n",
        "\n",
        "\n",
        "def data_praparing(data,data_c,k):\n",
        "  \n",
        "  class_data = {}\n",
        "  for m in range(k):\n",
        "    class_data[m]= []\n",
        "\n",
        "  for i in range(len(data)):\n",
        "    j=rd.randrange(0,k)  #Random centroid from 3\n",
        "  \n",
        "    gx = data_c[j][2]\n",
        "    gy = data_c[j][3]\n",
        "  \n",
        "    x_data = data[i][0]\n",
        "    y_data = data[i][1]\n",
        "  \n",
        "    A1 = 1/(gx*mt.sqrt(2*mt.pi))\n",
        "    A2 = 1/(gy*mt.sqrt(2*mt.pi))\n",
        "    \n",
        "    data[i][0] = A1*mt.exp(-(((x_data-data_c[j][0])**2)/2*(gx**2)))+data_c[j][0]\n",
        "    data[i][1] = A2*mt.exp(-(((y_data-data_c[j][1])**2)/2*(gy**2)))+data_c[j][1]\n",
        "    class_data[j].append(data[i])\n",
        "\n",
        "  return class_data,data"
      ],
      "execution_count": null,
      "outputs": []
    },
    {
      "cell_type": "markdown",
      "metadata": {
        "id": "XKUJ9Om0R1jF"
      },
      "source": [
        "# **K-means++**"
      ]
    },
    {
      "cell_type": "code",
      "metadata": {
        "id": "tWBF7boiEv1S"
      },
      "source": [
        "def Centroids_plus(data, k, random_state=42):\n",
        "\n",
        "    np.random.seed(random_state)\n",
        "    centroids = [data[rd.randrange(0,100)]]\n",
        "    \n",
        "    for _ in range(1, k):\n",
        "        dist_sq = np.array([min([np.inner(c-d,c-d) for c in centroids]) for d in data])\n",
        "        probs = dist_sq/dist_sq.sum()\n",
        "        cumulative_probs = probs.cumsum()\n",
        "        r = np.random.rand()\n",
        "        for j, prob in enumerate(cumulative_probs):\n",
        "            if r < prob:\n",
        "                i = j\n",
        "                break\n",
        "        \n",
        "        centroids.append(data[i])\n",
        "        \n",
        "\n",
        "    return np.array(centroids)\n",
        "\n",
        "    \n",
        "def recalculate_clusters(D, centroids, k):\n",
        "    # Initiate empty clusters\n",
        "    clusters = {}\n",
        "    # Set the range for value of k (number of centroids)\n",
        "    for i in range(k):\n",
        "        clusters[i] = []\n",
        "    for data in D:\n",
        "      euc_dist = []\n",
        "      for j in range(k):\n",
        "        euc_dist.append(np.linalg.norm(data - centroids[j]))\n",
        "        # Append the cluster of data to the dictionary\n",
        "      clusters[euc_dist.index(min(euc_dist))].append(data)\n",
        "    return clusters \n",
        "\n",
        "\n",
        "def recalculate_centroids(centroids, clusters, k):\n",
        "    \"\"\" Recalculates the centroid position based on the plot \"\"\"\n",
        "    for i in clusters:\n",
        "        centroids[i] = np.average(clusters[i], axis=0)\n",
        "    return centroids        \n",
        "\n",
        "\n",
        "\n",
        "def plot_clusters(Centroids,clusters,k):\n",
        "  for Centroid in range(k):\n",
        "    plt.scatter(Centroids[:,0], Centroids[:,1], s = 200, marker = \"X\")\n",
        "  #Creating color features for plotting\n",
        "  o = np.arange(10)\n",
        "  os = [i+o+(i*o)**2 for i in range(20)]\n",
        "  colors = cm.rainbow(np.linspace(0, 1, len(os))) \n",
        "  for cluster in clusters:\n",
        "    c = colors[cluster*2]\n",
        "    for features in clusters[cluster]:\n",
        "      plt.scatter(features[0], features[1], color=c ,s = 30)\n",
        "  plt.ylabel('Figure ', fontsize=16) \n",
        "  plt.show()   "
      ],
      "execution_count": null,
      "outputs": []
    },
    {
      "cell_type": "markdown",
      "metadata": {
        "id": "FTKze7edTNJV"
      },
      "source": [
        "## Fitting 32 k-means++ clusterings"
      ]
    },
    {
      "cell_type": "code",
      "metadata": {
        "id": "Aqw3H16TEnu1"
      },
      "source": [
        "\n",
        "def k_means(k):\n",
        "  Centroids= Centroids_plus(data, k , random_state=42)    \n",
        "  for i in range (10):\n",
        "    clusters=recalculate_clusters(data, Centroids, k)\n",
        "    Centroids=recalculate_centroids(Centroids,clusters,k)\n",
        "  return clusters, Centroids\n",
        "\n",
        "def n_k_means_plot(k,n):\n",
        "  clusters_list=[]\n",
        "  for i in range(n):\n",
        "    clusters, centroids = k_means(k) \n",
        "    plot_clusters(centroids,clusters,k)\n",
        "    clusters_list.append(clusters)\n",
        "  return clusters_list\n",
        "def n_k_means(k,n):\n",
        "  clusters_list=[]\n",
        "  for i in range(n):\n",
        "    clusters, centroids = k_means(k) \n",
        "    clusters_list.append(clusters)\n",
        "  return clusters_list  \n",
        "\n",
        "  "
      ],
      "execution_count": null,
      "outputs": []
    },
    {
      "cell_type": "markdown",
      "metadata": {
        "id": "prEXE67nZktK"
      },
      "source": [
        "# **1st method**\n",
        "# Measuring the diversity of n k-means++ clusterings"
      ]
    },
    {
      "cell_type": "code",
      "metadata": {
        "id": "HzMVobuWoU12"
      },
      "source": [
        "def dict_tr(dict_ex):\n",
        "  example=dict_ex\n",
        "  for i in range(len(example)):\n",
        "    for c in range(len(example[i])):\n",
        "      example[i][c]=list(example[i][c])\n",
        "  return example"
      ],
      "execution_count": null,
      "outputs": []
    },
    {
      "cell_type": "code",
      "metadata": {
        "id": "esvGLlWko0fX"
      },
      "source": [
        "def clusters_list_tr(clusters_list):\n",
        "  for clusters in clusters_list:\n",
        "    clusters=dict_tr(clusters)\n",
        "  return clusters_list"
      ],
      "execution_count": null,
      "outputs": []
    },
    {
      "cell_type": "markdown",
      "metadata": {
        "id": "NMrLTmWPTD8i"
      },
      "source": [
        "## Entropy"
      ]
    },
    {
      "cell_type": "code",
      "metadata": {
        "id": "Iq3gNXx8dJk7"
      },
      "source": [
        "def entropy(clusters_list):\n",
        "  k=len(clusters_list[0])\n",
        "  entropy_list=[]\n",
        "  for i in range( len(clusters_list) ):\n",
        "    entropy = np.zeros(k)\n",
        "    H = 0\n",
        "    for j in range(k):\n",
        "      cluster=np.array( clusters_list[i][j] )\n",
        "      u,counts = np.unique(cluster,return_counts = True,axis=0)\n",
        "      prob_all=0\n",
        "      h = np.zeros(k)\n",
        "      for z in range(len(u)):\n",
        "        prob=counts[z]/len(cluster)\n",
        "        # print(prob)\n",
        "        h[j] += - (  prob * mt.log (prob,2) )\n",
        "        prob_all += prob\n",
        "      # print(prob_all)   \n",
        "      entropy[j]=h[j]\n",
        "      H+=(h[j]*len(cluster))/100  \n",
        "    entropy_list.append(round(H,4))\n",
        "  entropy_list=np.array(entropy_list)\n",
        "  # print(entropy_list)\n",
        "  uniq_list=np.unique(entropy_list)\n",
        "  # print(uniq_list)\n",
        "  entropy=mt.log(len(uniq_list),2)  \n",
        "  return entropy  "
      ],
      "execution_count": null,
      "outputs": []
    },
    {
      "cell_type": "code",
      "metadata": {
        "id": "rMn1k40LfL-B",
        "colab": {
          "base_uri": "https://localhost:8080/"
        },
        "outputId": "e690bef2-7259-4897-9d4f-ce239f5a3c69"
      },
      "source": [
        "clusters_list = n_k_means(100 , 32)\n",
        "ent = entropy(clusters_list)   # Entropy of n k-means of n different initiral centr points clustering \n",
        "print(\"Entropy of 32 100_means with 32 different centres \" + str(ent))"
      ],
      "execution_count": null,
      "outputs": [
        {
          "output_type": "stream",
          "text": [
            "Entropy of 32 100_means with 32 different centres 0.0\n"
          ],
          "name": "stdout"
        }
      ]
    },
    {
      "cell_type": "markdown",
      "metadata": {
        "id": "LTGD1dVCZTs_"
      },
      "source": [
        "# **2nd method**\n",
        "# Measuring the quality of the clusters"
      ]
    },
    {
      "cell_type": "markdown",
      "metadata": {
        "id": "H4iE2VXnSbr3"
      },
      "source": [
        "## Density\n"
      ]
    },
    {
      "cell_type": "code",
      "metadata": {
        "id": "ZLbJ_5a3f-A4"
      },
      "source": [
        "def density(clusters_list):\n",
        "  \n",
        "  k=len( clusters_list[0] )\n",
        "  density_list=[]\n",
        "  for i in range(len( clusters_list )):\n",
        "    density = np.zeros(k)\n",
        "    for j in range(k):\n",
        "      cluster=np.array(clusters_list[i][j])\n",
        "      # print(cluster)\n",
        "      width=np.amax(cluster[:,0])-np.amin(cluster[:,0]) #get max x\n",
        "      height=np.amax(cluster[:,1])-np.amin(cluster[:,1]) #get max y\n",
        "      S=width*height #surface\n",
        "      # print(len(cluster)/S)\n",
        "      density[j]=len(cluster)/S #formula\n",
        "    # print(i)\n",
        "    density_list.append(density) \n",
        "\n",
        "  return density_list"
      ],
      "execution_count": null,
      "outputs": []
    },
    {
      "cell_type": "code",
      "metadata": {
        "id": "6dNG77ucgjbK",
        "colab": {
          "base_uri": "https://localhost:8080/"
        },
        "outputId": "5adb95b5-c4e2-49e8-c9fc-20dbdee8477b"
      },
      "source": [
        "density(clusters_list)[8]  # Densities of each clusters in one complete k-means "
      ],
      "execution_count": null,
      "outputs": [
        {
          "output_type": "execute_result",
          "data": {
            "text/plain": [
              "array([0.01288123, 0.00858847, 0.01676063, 0.00654084, 0.01702448,\n",
              "       0.02082293, 0.01261811])"
            ]
          },
          "metadata": {
            "tags": []
          },
          "execution_count": 81
        }
      ]
    },
    {
      "cell_type": "markdown",
      "metadata": {
        "id": "Fs_wh2H3SxFi"
      },
      "source": [
        "## Scattering value"
      ]
    },
    {
      "cell_type": "code",
      "metadata": {
        "id": "PCEiJjKtdk5x"
      },
      "source": [
        "def entropy_scatter(clusters_list):\n",
        "  k=len(clusters_list[0]) #get k number of cluster\n",
        "  # H = 0\n",
        "  entropy_list=[]\n",
        "  for i in range( len(clusters_list) ): \n",
        "    entropy = np.zeros(k) #entropy list for cluster\n",
        "    for j in range(k):\n",
        "      cluster=np.array( clusters_list[i][j] ) #get cluster from list\n",
        "      u,counts = np.unique(cluster,return_counts = True,axis=0) #get number of uniqes of clusters\n",
        "      prob_all=0\n",
        "      h = np.zeros(k)\n",
        "      for z in range(len(u)):\n",
        "        prob=counts[z]/len(cluster) \n",
        "        # print(prob)\n",
        "        h[j]+=-(prob*mt.log(prob,2)) #apply formula\n",
        "        prob_all+=prob #calculate entropy\n",
        "      # print(prob_all)   \n",
        "      entropy[j]=h[j] #set entropies to entropy list for one clustering\n",
        "      # H+=(h[i]*len(cluster_i))/n_points\n",
        "    entropy_list.append(entropy) #append entropy list of one clustering \n",
        "  return entropy_list \n"
      ],
      "execution_count": null,
      "outputs": []
    },
    {
      "cell_type": "code",
      "metadata": {
        "colab": {
          "base_uri": "https://localhost:8080/"
        },
        "id": "_qx_tUKoRG8L",
        "outputId": "3705a832-edde-4783-c110-5a531f966381"
      },
      "source": [
        "entropy_scatter(clusters_list)[8]  # entropy of each cluster in one complete k-means from 32"
      ],
      "execution_count": null,
      "outputs": [
        {
          "output_type": "execute_result",
          "data": {
            "text/plain": [
              "array([4.169925  , 4.45943162, 3.9068906 , 2.32192809, 3.9068906 ,\n",
              "       4.        , 3.169925  ])"
            ]
          },
          "metadata": {
            "tags": []
          },
          "execution_count": 85
        }
      ]
    },
    {
      "cell_type": "markdown",
      "metadata": {
        "id": "EaFcn279S3Wg"
      },
      "source": [
        "## Quality"
      ]
    },
    {
      "cell_type": "code",
      "metadata": {
        "id": "Aaulv06pgtk-"
      },
      "source": [
        "def Quality(clusters_list):\n",
        "  k=len(clusters_list[0]) #get k number from cluster of clustering\n",
        "  quality_list=[]\n",
        "  sum_of_weights=0\n",
        "  for i in range(len(clusters_list)): # for each cluster\n",
        "\n",
        "    # print(str(i)+\". iteration\")\n",
        "    density_total=0 #calculate density total of cluster for each cluster\n",
        "    for den in density(clusters_list)[i]:\n",
        "        density_total += den\n",
        "\n",
        "    scattering_total=0 #same with density total\n",
        "\n",
        "    for sc in entropy_scatter(clusters_list)[i]:\n",
        "        scattering_total += sc\n",
        "    quality=0\n",
        "    for j in range(k):\n",
        "\n",
        "      scatter=entropy_scatter(clusters_list)[i][j]\n",
        "      denst= density(clusters_list)[i][j]\n",
        "      weight= len(clusters_list[i][j]) /100 \n",
        "      sum_of_weights = ((scatter/scattering_total)*scatter)+((denst/density_total)*denst)\n",
        "      quality += sum_of_weights*weight #apply formula of Quality\n",
        "    quality_list.append(quality) #append quality value of one cluster\n",
        "  return quality_list \n",
        "     "
      ],
      "execution_count": null,
      "outputs": []
    },
    {
      "cell_type": "code",
      "metadata": {
        "id": "WHqrtDUaxDfY",
        "colab": {
          "base_uri": "https://localhost:8080/"
        },
        "outputId": "3130d11e-7278-4173-9ae7-656060925677"
      },
      "source": [
        "Quality(clusters_list)[8]"
      ],
      "execution_count": null,
      "outputs": [
        {
          "output_type": "execute_result",
          "data": {
            "text/plain": [
              "0.6120878029042393"
            ]
          },
          "metadata": {
            "tags": []
          },
          "execution_count": 87
        }
      ]
    },
    {
      "cell_type": "markdown",
      "metadata": {
        "id": "93PTlbAkByFb"
      },
      "source": [
        "# **Main** **Program**"
      ]
    },
    {
      "cell_type": "markdown",
      "metadata": {
        "id": "AzBv1u06kfNB"
      },
      "source": [
        "Preparing Data"
      ]
    },
    {
      "cell_type": "code",
      "metadata": {
        "colab": {
          "base_uri": "https://localhost:8080/",
          "height": 282
        },
        "id": "xTUD7gvuAw_C",
        "outputId": "7ae62e8c-8dd4-4ba5-c979-d85700c3ba8b"
      },
      "source": [
        "points=100\n",
        "coordinates=2 # x and y\n",
        "k=3                                         # number of centres to distribute data\n",
        "data, data_c = create_data(points,coordinates,k)  # Random data matrix \n",
        "class_data,data = data_praparing(data,data_c,k)   # distributed data matrix with gaussian distribution\n",
        "\n",
        "\n",
        "plt.scatter(data[:,0],data[:,1], c='blue')  "
      ],
      "execution_count": null,
      "outputs": [
        {
          "output_type": "execute_result",
          "data": {
            "text/plain": [
              "<matplotlib.collections.PathCollection at 0x7fd766cf5ba8>"
            ]
          },
          "metadata": {
            "tags": []
          },
          "execution_count": 351
        },
        {
          "output_type": "display_data",
          "data": {
            "image/png": "[encoded data removed]",
            "text/plain": [
              "<Figure size 432x288 with 1 Axes>"
            ]
          },
          "metadata": {
            "tags": [],
            "needs_background": "light"
          }
        }
      ]
    },
    {
      "cell_type": "markdown",
      "metadata": {
        "id": "C7rk68gYkkYs"
      },
      "source": [
        "**Results**"
      ]
    },
    {
      "cell_type": "code",
      "metadata": {
        "colab": {
          "base_uri": "https://localhost:8080/",
          "height": 809
        },
        "id": "zuUrOXRBEsjI",
        "outputId": "a9694c63-6d7f-473f-9bb6-d9699beb58de"
      },
      "source": [
        "import sys\n",
        "print(\"please enter centres\")\n",
        "centres = int(input())\n",
        "print(\"Please enter number of clusterings\")\n",
        "nb_of_kmean= int(input())\n",
        "\n",
        "print(\" Please enter 'plot' if you want \" + str(nb_of_kmean) + \" clustering with \" + str(centres) + \" diffent initial means with plots or 'result' to get direct result\")\n",
        "case=input()\n",
        "while 1:\n",
        "  if case == 'plot':\n",
        "    clusters_list = n_k_means_plot(centres , nb_of_kmean)\n",
        "    print(\"Entropy of \" + str(centres) + \"_means: \" + str(entropy(clusters_list)))     #First measure\n",
        "                                                        #Entropy of 'n_of_kmean' centres-means of 'n_of_kmeans' different initial centre points \n",
        "    quality = np.array(Quality(clusters_list))                                    #second measure\n",
        "                                                        #Quality list of each clustering with different centre points (n times)\n",
        "    for i in range (len(quality)):\n",
        "     print(str(i+1) + \"th clustering quality is : \" + str(quality[i])  )\n",
        "    sys.exit(\"done\") \n",
        "  if case == 'result':\n",
        "    clusters_list = n_k_means(centres , nb_of_kmean)\n",
        "    print(\"Entropy of \" + str(centres) + \"_means: \" + str(entropy(clusters_list)))\n",
        "    quality = np.array(Quality(clusters_list))\n",
        "    for i in range (len(quality)):\n",
        "      print(str(i+1) + \"th clustering quality is : \" + str(quality[i])  )\n",
        "    sys.exit(\"done\")  \n",
        "  else : \n",
        "    print(\"Please enter valid input\")\n",
        "    case = input()\n"
      ],
      "execution_count": null,
      "outputs": [
        {
          "output_type": "stream",
          "text": [
            "please enter centres\n",
            "5\n",
            "Please enter number of clusterings\n",
            "32\n",
            " Please enter 'plot' if you want 32 clustering with 5 diffent initial means with plots or 'result' to get direct result\n",
            "result\n",
            "Entropy of 5_means: 3.5849625007211565\n",
            "1th clustering quality is : 0.9377069077499616\n",
            "2th clustering quality is : 0.9377069077499613\n",
            "3th clustering quality is : 1.0215034123163518\n",
            "4th clustering quality is : 0.9309460485117251\n",
            "5th clustering quality is : 1.059854465947947\n",
            "6th clustering quality is : 1.0159354406047783\n",
            "7th clustering quality is : 0.9810908975558474\n",
            "8th clustering quality is : 0.9309460485117251\n",
            "9th clustering quality is : 1.0159354406047783\n",
            "10th clustering quality is : 0.9345475121925658\n",
            "11th clustering quality is : 0.9377069077499616\n",
            "12th clustering quality is : 0.9309460485117251\n",
            "13th clustering quality is : 0.9377069077499613\n",
            "14th clustering quality is : 0.9309460485117251\n",
            "15th clustering quality is : 0.9319267756616054\n",
            "16th clustering quality is : 0.9875013831748229\n",
            "17th clustering quality is : 0.9309460485117251\n",
            "18th clustering quality is : 0.9173534087573827\n",
            "19th clustering quality is : 0.9173534087573827\n",
            "20th clustering quality is : 1.0159354406047783\n",
            "21th clustering quality is : 0.9377069077499616\n",
            "22th clustering quality is : 1.0159354406047783\n",
            "23th clustering quality is : 0.9319267756616054\n",
            "24th clustering quality is : 1.0159354406047783\n",
            "25th clustering quality is : 1.0186318767808031\n",
            "26th clustering quality is : 0.9852004447871072\n",
            "27th clustering quality is : 0.9309460485117251\n",
            "28th clustering quality is : 0.9309460485117248\n",
            "29th clustering quality is : 0.9309460485117251\n",
            "30th clustering quality is : 0.987501383174823\n",
            "31th clustering quality is : 0.9377069077499616\n",
            "32th clustering quality is : 1.0159354406047783\n"
          ],
          "name": "stdout"
        },
        {
          "output_type": "error",
          "ename": "SystemExit",
          "evalue": "ignored",
          "traceback": [
            "An exception has occurred, use %tb to see the full traceback.\n",
            "\u001b[0;31mSystemExit\u001b[0m\u001b[0;31m:\u001b[0m done\n"
          ]
        },
        {
          "output_type": "stream",
          "text": [
            "/usr/local/lib/python3.6/dist-packages/IPython/core/interactiveshell.py:2890: UserWarning: To exit: use 'exit', 'quit', or Ctrl-D.\n",
            "  warn(\"To exit: use 'exit', 'quit', or Ctrl-D.\", stacklevel=1)\n"
          ],
          "name": "stderr"
        }
      ]
    }
  ]
}